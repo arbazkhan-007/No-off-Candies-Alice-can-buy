{
 "cells": [
  {
   "cell_type": "raw",
   "metadata": {},
   "source": [
    "2,Alice loves candies, so she went into a candy shop. Now the shopkeeper sells candies in\n",
    "packets and all packets contain an odd number of candies (1, 3, 5, 7.....). Alice wants exactly N\n",
    "candies but she also loves patterns so she decided to buy candies only if the number of candies\n",
    "in the packets is consecutive and distinct (means she cannot buy the same candy packet more\n",
    "than once) and the sum of all the candies in those packets is exactly N\n",
    "\n",
    "Alice has an infinite amount of money and the shopkeeper also has an infinite amount of candy\n",
    "packets, so Alice wonders how many different sets of candy packets she can buy.\n",
    "Find the number of different sets of candy packets that Alice can buy.\n",
    "Input format\n",
    "The first and the only line contains a single integer\n",
    "N (1≤N≤1000000000)\n",
    "Output format\n",
    "Print a single integer denoting the number of different sets of candy packets Alice can buy."
   ]
  },
  {
   "cell_type": "code",
   "execution_count": 1,
   "metadata": {},
   "outputs": [
    {
     "name": "stdin",
     "output_type": "stream",
     "text": [
      "Alice wants exactly how many candies : 1000000\n"
     ]
    },
    {
     "name": "stdout",
     "output_type": "stream",
     "text": [
      "Number of different sets of candy packets that Alice can buy  18\n"
     ]
    }
   ],
   "source": [
    "import math\n",
    "\n",
    "def valid_pair(a, b):\n",
    "    n2 = (a+b)//2\n",
    "    n1 = (a-b)//2\n",
    "    if n1>=0 and n2>=0 and n2>=n1:\n",
    "        return True\n",
    "    return False\n",
    "\n",
    "N, ans = int(input(\"Alice wants exactly how many candies :\")), 0\n",
    "\n",
    "for i in range(1, int(math.sqrt(N))+1):\n",
    "    if N%i == 0:\n",
    "        a, b = i, N//i\n",
    "        if (a%2==0 and b%2==0) or (a%2 and b%2):\n",
    "            if valid_pair(a, b):\n",
    "                ans += 1\n",
    "            if i*i != N and valid_pair(b, a):\n",
    "                ans += 1\n",
    "\n",
    "print(\"Number of different sets of candy packets that Alice can buy \",ans)\n"
   ]
  },
  {
   "cell_type": "code",
   "execution_count": null,
   "metadata": {},
   "outputs": [],
   "source": []
  }
 ],
 "metadata": {
  "kernelspec": {
   "display_name": "Python 3",
   "language": "python",
   "name": "python3"
  },
  "language_info": {
   "codemirror_mode": {
    "name": "ipython",
    "version": 3
   },
   "file_extension": ".py",
   "mimetype": "text/x-python",
   "name": "python",
   "nbconvert_exporter": "python",
   "pygments_lexer": "ipython3",
   "version": "3.7.6"
  }
 },
 "nbformat": 4,
 "nbformat_minor": 4
}
